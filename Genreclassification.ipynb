{
 "cells": [
  {
   "cell_type": "code",
   "execution_count": 10,
   "metadata": {},
   "outputs": [
    {
     "name": "stdout",
     "output_type": "stream",
     "text": [
      "Downloading 19MxOn5NsxMccFIQwqukrzpJN2nNaXX_M into ./fma_spec.zip... Done.\n"
     ]
    }
   ],
   "source": [
    "from google_drive_downloader import GoogleDriveDownloader as gdd\n",
    "gdd.download_file_from_google_drive(file_id='19MxOn5NsxMccFIQwqukrzpJN2nNaXX_M',\n",
    "                                    dest_path='./fma_spec.zip')"
   ]
  },
  {
   "cell_type": "code",
   "execution_count": 27,
   "metadata": {},
   "outputs": [],
   "source": [
    "from __future__ import print_function, division\n",
    "import torch\n",
    "import torch.nn as nn\n",
    "import torch.optim as optim\n",
    "from torch.optim import lr_scheduler\n",
    "import numpy as np\n",
    "import torchvision\n",
    "from torchvision import datasets, models, transforms\n",
    "import matplotlib.pyplot as plt\n",
    "import time\n",
    "import os\n",
    "import copy\n",
    "import pandas as pd\n",
    "import numpy as np\n",
    "import os\n",
    "import torch\n",
    "import pandas as pd\n",
    "import numpy as np\n",
    "import matplotlib.pyplot as plt\n",
    "from torch.utils.data import Dataset, DataLoader\n",
    "from torchvision import transforms, utils\n",
    "import cv2\n",
    "from torch.utils.data.sampler import SubsetRandomSampler\n",
    "import torch.nn as nn\n",
    "import torch.nn.functional as F\n",
    "import torchvision.models as models\n",
    "from skimage import io, transform"
   ]
  },
  {
   "cell_type": "code",
   "execution_count": 11,
   "metadata": {},
   "outputs": [],
   "source": [
    "import zipfile\n",
    "zip_ref = zipfile.ZipFile('./fma_spec.zip', 'r')\n",
    "zip_ref.extractall(os.getcwd())\n",
    "zip_ref.close()"
   ]
  },
  {
   "cell_type": "code",
   "execution_count": 2,
   "metadata": {},
   "outputs": [],
   "source": [
    "import pandas as pd\n",
    "track = pd.read_csv('./genre_small.csv')"
   ]
  },
  {
   "cell_type": "code",
   "execution_count": 3,
   "metadata": {},
   "outputs": [],
   "source": [
    "img_dir = os.listdir('./fma_spec')"
   ]
  },
  {
   "cell_type": "code",
   "execution_count": 6,
   "metadata": {},
   "outputs": [],
   "source": [
    "y = track.iloc[:,1:2].values\n",
    "ID = track.iloc[:,0:1].values\n",
    "y = y[2:,:]\n",
    "ID = ID[2:,:]"
   ]
  },
  {
   "cell_type": "code",
   "execution_count": 12,
   "metadata": {},
   "outputs": [],
   "source": [
    "label = {}\n",
    "for i,j in zip(ID,y):\n",
    "  label[str(i[0])] = j[0]"
   ]
  },
  {
   "cell_type": "code",
   "execution_count": 55,
   "metadata": {},
   "outputs": [],
   "source": [
    "encoder = {}\n",
    "encoder['Hip-Hop'] = 0\n",
    "encoder['Pop'] = 1\n",
    "encoder['Rock'] = 2\n",
    "encoder['Experimental'] = 3\n",
    "encoder['Folk'] = 4\n",
    "encoder['Instrumental'] = 5\n",
    "encoder['Electronic'] = 6\n",
    "encoder['International'] = 7\n",
    "decoder = {}\n",
    "decoder[0] ='Hip-Hop' \n",
    "decoder[1] = 'Pop'\n",
    "decoder[2] = 'Rock'\n",
    "decoder[3] = 'Experimental'\n",
    "decoder[4] = 'Folk'\n",
    "decoder[5] = 'Instrumental'\n",
    "decoder[6] = 'Electronic'\n",
    "decoder[7] = 'International'"
   ]
  },
  {
   "cell_type": "code",
   "execution_count": 59,
   "metadata": {},
   "outputs": [
    {
     "data": {
      "text/plain": [
       "' genre1 = np.empty((8,1),np.int)\\n    for i in range(8):\\n        if(genre==i):\\n            genre1[i] = 1\\n        else:\\n            genre1[i] = 0\\n'"
      ]
     },
     "execution_count": 59,
     "metadata": {},
     "output_type": "execute_result"
    }
   ],
   "source": [
    "class genre_dataset(Dataset):\n",
    "  def __init__(self,label,image_dir,transform = None):\n",
    "    self.img_dir = image_dir\n",
    "    self.transform = transform\n",
    "  def __len__(self):\n",
    "        return len(os.listdir(self.img_dir))\n",
    "  def __getitem__(self,idx):\n",
    "    directory = os.listdir(self.img_dir)\n",
    "    file_name = directory[idx]\n",
    "    path = os.path.join(self.img_dir,file_name)\n",
    "    image = io.imread(path)\n",
    "    image = image[:,:-2]\n",
    "    image = image.reshape((len(image[:,0]),len(image[0,:]),1))\n",
    "    file_name = list(file_name)\n",
    "    file_name = file_name[:-6]\n",
    "    file_name = \"\".join(file_name)\n",
    "    genre = label.get(file_name,'notfound')\n",
    "    if self.transform:\n",
    "      image = self.transform(image)\n",
    "    if(genre == 'notfound'):\n",
    "        print('notfound')\n",
    "   # print(genre)\n",
    "    \n",
    "    genre = encoder.get(genre)\n",
    "    \n",
    "    return image,genre\n",
    "\n",
    "\n",
    "\"\"\" genre1 = np.empty((8,1),np.int)\n",
    "    for i in range(8):\n",
    "        if(genre==i):\n",
    "            genre1[i] = 1\n",
    "        else:\n",
    "            genre1[i] = 0\n",
    "\"\"\"\n",
    "        \n",
    "\n",
    "    "
   ]
  },
  {
   "cell_type": "code",
   "execution_count": 60,
   "metadata": {},
   "outputs": [],
   "source": [
    "transform = transforms.Compose([\n",
    "    transforms.ToPILImage(),\n",
    "    transforms.Resize((224,224)),\n",
    "    transforms.ToTensor()\n",
    "    ])\n",
    "genredata = genre_dataset(label,'./fma_spec1',transform)\n",
    "dataloader = DataLoader(genredata,batch_size = 32,shuffle = False)"
   ]
  },
  {
   "cell_type": "code",
   "execution_count": 62,
   "metadata": {},
   "outputs": [],
   "source": [
    "test_size = 0.2\n",
    "valid_size = 0.1\n",
    "data_len = len(genredata)\n",
    "indices = list(range(data_len))\n",
    "np.random.shuffle(indices)\n",
    "split1 = int(np.floor(valid_size * data_len))\n",
    "split2 = int(np.floor(test_size * data_len))\n",
    "valid_idx , test_idx, train_idx = indices[:split1], indices[split1:split2] , indices[split2:] \n",
    "train_sampler = SubsetRandomSampler(train_idx)\n",
    "valid_sampler = SubsetRandomSampler(valid_idx)\n",
    "test_sampler = SubsetRandomSampler(test_idx)\n",
    "train_loader = DataLoader(genredata, batch_size=32 , sampler=train_sampler)\n",
    "valid_loader = DataLoader(genredata, batch_size=32 , sampler=valid_sampler)\n",
    "test_loader = DataLoader(genredata, batch_size=32 , sampler=test_sampler)\n",
    "dataloaders = {'train':train_loader,'val':valid_loader}\n",
    "dataset_sizes = {'train':27990,'test':7997,'val':3998}\n"
   ]
  },
  {
   "cell_type": "code",
   "execution_count": 120,
   "metadata": {},
   "outputs": [],
   "source": [
    "resnet50 = resnet34(pretrained=False)\n",
    "num_ftrs = resnet50.fc.in_features\n",
    "resnet50.fc = nn.Sequential(nn.Linear(num_ftrs,256),nn.ReLU(),nn.Linear(256,8),nn.LogSoftmax(dim=1))\n",
    "criterion = nn.NLLLoss()\n",
    "optimizer_ft = optim.SGD(resnet50.parameters(), lr=0.001, momentum=0.9)\n",
    "exp_lr_scheduler = lr_scheduler.StepLR(optimizer_ft, step_size=7, gamma=0.1)"
   ]
  },
  {
   "cell_type": "code",
   "execution_count": null,
   "metadata": {},
   "outputs": [
    {
     "name": "stdout",
     "output_type": "stream",
     "text": [
      "Epoch 0/2\n",
      "----------\n"
     ]
    }
   ],
   "source": [
    "model_ft = train_model(resnet50, criterion, optimizer_ft, exp_lr_scheduler,num_epochs=3)"
   ]
  },
  {
   "cell_type": "code",
   "execution_count": 136,
   "metadata": {},
   "outputs": [],
   "source": [
    "device = torch.device(\"cuda\" if torch.cuda.is_available() else \"cpu\")\n",
    "\n",
    "def train_model(model, criterion, optimizer, scheduler, num_epochs=10):\n",
    "    since = time.time()\n",
    "    model.to(device)\n",
    "    best_model_wts = copy.deepcopy(model.state_dict())\n",
    "    best_acc = 0.0\n",
    "\n",
    "    for epoch in range(num_epochs):\n",
    "        print('Epoch {}/{}'.format(epoch, num_epochs - 1))\n",
    "        print('-' * 10)\n",
    "\n",
    "        # Each epoch has a training and validation phase\n",
    "        for phase in ['train', 'val']:\n",
    "            if phase == ' train':\n",
    "                scheduler.step()\n",
    "                model.train()  # Set model to training mode\n",
    "            else:\n",
    "                model.eval()   # Set model to evaluate mode\n",
    "\n",
    "            running_loss = 0.0\n",
    "            running_corrects = 0\n",
    "\n",
    "            # Iterate over data.\n",
    "            for inputs, labels in dataloaders[phase]:\n",
    "                inputs = inputs.to(device)\n",
    "                inputs = inputs.type(torch.cuda.FloatTensor)\n",
    "                labels = labels.to(device)\n",
    "                # zero the parameter gradients\n",
    "                optimizer.zero_grad()\n",
    "\n",
    "                # forward\n",
    "                # track history if only in train\n",
    "                with torch.set_grad_enabled(phase == 'train'):\n",
    "                    \n",
    "                    outputs = model(inputs)\n",
    "                    \n",
    "                    _, preds = torch.max(outputs, 1)\n",
    "                    preds = preds.reshape(preds.size(0),-1)\n",
    "                    \n",
    "                    #print(outputs.shape,type(labels))\n",
    "                    loss = criterion(outputs, labels)\n",
    "\n",
    "                    #_, labels = torch.max(labels,1)\n",
    "                    # backward + optimize only if in training phase\n",
    "                    if phase == 'train':\n",
    "                        loss.backward()\n",
    "                        optimizer.step()\n",
    "\n",
    "                # statistics \n",
    "                running_loss += loss.item() * inputs.size(0)\n",
    "                running_corrects += torch.sum(preds == labels.data)\n",
    "\n",
    "            epoch_loss = running_loss\n",
    "            writer.add_scalar('./sanchit/scalar1', epoch_loss , epoch)\n",
    "            print('{} Loss: {:.4f}'.format(\n",
    "                phase, epoch_loss))\n",
    "\n",
    "            # deep copy the model\n",
    "            if phase == 'val' and epoch_acc > best_acc:\n",
    "                best_acc = epoch_acc\n",
    "                best_model_wts = copy.deepcopy(model.state_dict())\n",
    "                torch.save(model.state_dict(),'./classifier{}'.format(best_acc))\n",
    "    \n",
    "\n",
    "        print()\n",
    "\n",
    "    time_elapsed = time.time() - since\n",
    "    print('Training complete in {:.0f}m {:.0f}s'.format(\n",
    "        time_elapsed // 60, time_elapsed % 60))\n",
    "    print('Best val Acc: {:4f}'.format(best_acc))\n",
    "\n",
    "    # load best model weights\n",
    "    model.load_state_dict(best_model_wts)\n",
    "    return model"
   ]
  },
  {
   "cell_type": "code",
   "execution_count": null,
   "metadata": {},
   "outputs": [],
   "source": [
    "import cv2\n",
    "from tqdm import tqdm\n",
    "img_size = int(2590/5)\n",
    "img_name = os.listdir('./fma_spec')\n",
    "for i in tqdm(img_name):\n",
    "    path1 = os.path.join('./fma_spec',i)\n",
    "    i = list(i)\n",
    "    i = i[:-4]\n",
    "    i = \"\".join(i)\n",
    "    path = os.path.join('./fma_spec1',i)\n",
    "    img = cv2.imread(path1,0)\n",
    "    img = img[:,:-2]\n",
    "    img_1 = img[:,0:img_size]\n",
    "    cv2.imwrite(path+'_1.jpg',img_1)\n",
    "    img_1 = img[:,1*img_size : (2*img_size)]\n",
    "    cv2.imwrite(path+'_2.jpg',img_1)\n",
    "    img_1 = img[:,2*img_size : (3*img_size)]\n",
    "    cv2.imwrite(path+'_3.jpg',img_1)\n",
    "    img_1 = img[:,3*img_size : (4*img_size)]\n",
    "    cv2.imwrite(path+'_4.jpg',img_1)\n",
    "    img_1 = img[:,4*img_size : (5*img_size)]\n",
    "    cv2.imwrite(path+'_5.jpg',img_1)\n"
   ]
  },
  {
   "cell_type": "code",
   "execution_count": 195,
   "metadata": {},
   "outputs": [
    {
     "data": {
      "text/plain": [
       "7"
      ]
     },
     "execution_count": 195,
     "metadata": {},
     "output_type": "execute_result"
    }
   ],
   "source": []
  }
 ],
 "metadata": {
  "kernelspec": {
   "display_name": "Python 3",
   "language": "python",
   "name": "python3"
  },
  "language_info": {
   "codemirror_mode": {
    "name": "ipython",
    "version": 3
   },
   "file_extension": ".py",
   "mimetype": "text/x-python",
   "name": "python",
   "nbconvert_exporter": "python",
   "pygments_lexer": "ipython3",
   "version": "3.6.7"
  }
 },
 "nbformat": 4,
 "nbformat_minor": 2
}
