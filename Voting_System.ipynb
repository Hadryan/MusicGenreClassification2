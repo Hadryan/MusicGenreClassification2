{
  "nbformat": 4,
  "nbformat_minor": 0,
  "metadata": {
    "colab": {
      "name": "Voting System.ipynb",
      "version": "0.3.2",
      "provenance": [],
      "collapsed_sections": []
    },
    "kernelspec": {
      "name": "python3",
      "display_name": "Python 3"
    }
  },
  "cells": [
    {
      "metadata": {
        "id": "YcdBzk_nxdZu",
        "colab_type": "code",
        "colab": {}
      },
      "cell_type": "code",
      "source": [
        "import torch\n"
      ],
      "execution_count": 0,
      "outputs": []
    },
    {
      "metadata": {
        "id": "8UfR7nGfx_nK",
        "colab_type": "code",
        "colab": {}
      },
      "cell_type": "code",
      "source": [
        "def chop_image(self, img):\n",
        "  height, width, channels = img.shape\n",
        "  w = width // 10\n",
        "  images = []\n",
        "  for i in range(0,10):\n",
        "    temp = img[:, (i*w):((i+1)*w), :]\n",
        "    temp = cv2.resize(temp,(128,128))\n",
        "    images.append(temp)\n",
        "  return images"
      ],
      "execution_count": 0,
      "outputs": []
    },
    {
      "metadata": {
        "id": "X-Ujlu-oyYEs",
        "colab_type": "code",
        "colab": {}
      },
      "cell_type": "code",
      "source": [
        "decoder = {}\n",
        "decoder[0] ='Hip-Hop' \n",
        "decoder[1] = 'Pop'\n",
        "decoder[2] = 'Rock'\n",
        "decoder[3] = 'Experimental'\n",
        "decoder[4] = 'Folk'\n",
        "decoder[5] = 'Instrumental'\n",
        "decoder[6] = 'Electronic'\n",
        "decoder[7] = 'International'"
      ],
      "execution_count": 0,
      "outputs": []
    },
    {
      "metadata": {
        "id": "RZGZJyNZxiWi",
        "colab_type": "code",
        "colab": {}
      },
      "cell_type": "code",
      "source": [
        "def voting_system(model, image):\n",
        "  ans = np.zeros((8))\n",
        "  images = chop_image(image)\n",
        "  for img in images:\n",
        "    img = img/255.0\n",
        "    temp = model.predict(img)\n",
        "    ans[temp] = ans[temp] + 1\n",
        "  \n",
        "  print('Genre:', decoder[np.argmax(ans)])"
      ],
      "execution_count": 0,
      "outputs": []
    },
    {
      "metadata": {
        "id": "UOwPl66OxiZp",
        "colab_type": "code",
        "colab": {}
      },
      "cell_type": "code",
      "source": [
        ""
      ],
      "execution_count": 0,
      "outputs": []
    }
  ]
}